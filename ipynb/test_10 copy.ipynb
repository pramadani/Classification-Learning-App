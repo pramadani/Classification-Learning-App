{
 "cells": [
  {
   "cell_type": "code",
   "execution_count": 30,
   "metadata": {},
   "outputs": [],
   "source": [
    "import os\n",
    "import cv2\n",
    "import numpy as np\n",
    "from sklearn.model_selection import train_test_split\n",
    "from sklearn.svm import SVC\n",
    "from sklearn.pipeline import Pipeline\n",
    "from sklearn.preprocessing import StandardScaler\n",
    "from sklearn.metrics import classification_report, accuracy_score\n",
    "from sklearn.model_selection import GridSearchCV\n",
    "from tensorflow.keras.preprocessing.image import ImageDataGenerator"
   ]
  },
  {
   "cell_type": "code",
   "execution_count": 31,
   "metadata": {},
   "outputs": [],
   "source": [
    "# Fungsi untuk memuat gambar dari folder dan augmentasi\n",
    "def load_images_from_folder_with_augmentation(folder, img_size=(150, 150), augment_times=10):\n",
    "    datagen = ImageDataGenerator(\n",
    "        rotation_range=20,\n",
    "        width_shift_range=0.2,\n",
    "        height_shift_range=0.2,\n",
    "        shear_range=0.2,\n",
    "        zoom_range=0.2,\n",
    "        horizontal_flip=True,\n",
    "        fill_mode='nearest'\n",
    "    )\n",
    "\n",
    "    images = []\n",
    "    labels = []\n",
    "    label_map = {}\n",
    "    label_counter = 0\n",
    "    \n",
    "    for person_name in os.listdir(folder):\n",
    "        person_folder = os.path.join(folder, person_name)\n",
    "        if os.path.isdir(person_folder):\n",
    "            if person_name not in label_map:\n",
    "                label_map[person_name] = label_counter\n",
    "                label_counter += 1\n",
    "            \n",
    "            for filename in os.listdir(person_folder):\n",
    "                img_path = os.path.join(person_folder, filename)\n",
    "                img = cv2.imread(img_path, cv2.IMREAD_GRAYSCALE)\n",
    "                if img is not None:\n",
    "                    img = cv2.resize(img, img_size)\n",
    "                    img_flatten = img.flatten()\n",
    "                    images.append(img_flatten)\n",
    "                    labels.append(label_map[person_name])\n",
    "                    \n",
    "                    # Augmentasi gambar\n",
    "                    img = img.reshape((1,) + img.shape + (1,))\n",
    "                    aug_iter = datagen.flow(img, batch_size=1)\n",
    "                    for _ in range(augment_times):\n",
    "                        aug_img = next(aug_iter)[0].reshape(img_size)\n",
    "                        aug_img_flatten = aug_img.flatten()\n",
    "                        images.append(aug_img_flatten)\n",
    "                        labels.append(label_map[person_name])\n",
    "    \n",
    "    return np.array(images), np.array(labels), label_map"
   ]
  },
  {
   "cell_type": "code",
   "execution_count": 32,
   "metadata": {},
   "outputs": [
    {
     "name": "stdout",
     "output_type": "stream",
     "text": [
      "Total images: 550\n",
      "Total labels: 550\n",
      "Label map: {'Colin_Powell': 0, 'Donald_Rumsfeld': 1, 'George_W_Bush': 2, 'Gerhard_Schroeder': 3, 'Tony_Blair': 4}\n"
     ]
    }
   ],
   "source": [
    "\n",
    "# Path ke folder gambar\n",
    "image_folder = '10_images'\n",
    "\n",
    "# Load gambar dan label dengan augmentasi\n",
    "X, y, label_map = load_images_from_folder_with_augmentation(image_folder)\n",
    "\n",
    "# Cetak informasi dataset\n",
    "print(f'Total images: {len(X)}')\n",
    "print(f'Total labels: {len(y)}')\n",
    "print(f'Label map: {label_map}')\n",
    "\n",
    "# Membagi dataset menjadi data latih dan data uji\n",
    "X_train, X_test, y_train, y_test = train_test_split(X, y, test_size=0.2, random_state=42)\n"
   ]
  },
  {
   "cell_type": "code",
   "execution_count": null,
   "metadata": {},
   "outputs": [
    {
     "name": "stdout",
     "output_type": "stream",
     "text": [
      "Fitting 2 folds for each of 6912 candidates, totalling 13824 fits\n",
      "Best parameters found:  {'svm__C': 10, 'svm__class_weight': None, 'svm__coef0': 0.0, 'svm__decision_function_shape': 'ovo', 'svm__degree': 2, 'svm__gamma': 'scale', 'svm__kernel': 'rbf', 'svm__tol': 0.001}\n",
      "Best cross-validation score:  0.7\n",
      "Test Accuracy: 0.8090909090909091\n",
      "Classification Report:\n",
      "               precision    recall  f1-score   support\n",
      "\n",
      "           0       0.91      0.94      0.92        31\n",
      "           1       0.90      0.78      0.84        23\n",
      "           2       0.55      0.73      0.63        15\n",
      "           3       0.80      0.94      0.86        17\n",
      "           4       0.83      0.62      0.71        24\n",
      "\n",
      "    accuracy                           0.81       110\n",
      "   macro avg       0.80      0.80      0.79       110\n",
      "weighted avg       0.82      0.81      0.81       110\n",
      "\n",
      "Training Accuracy: 1.0\n"
     ]
    }
   ],
   "source": [
    "# Pipeline dengan standard scaler dan SVM\n",
    "pipeline = Pipeline([\n",
    "    ('scaler', StandardScaler()),\n",
    "    ('svm', SVC())\n",
    "])\n",
    "\n",
    "# Definisikan parameter grid untuk GridSearchCV\n",
    "param_grid = {\n",
    "    'svm__kernel': ['linear', 'rbf', 'poly', 'sigmoid'],\n",
    "    'svm__C': [0.001, 0.01, 0.1, 1, 10, 100],\n",
    "    'svm__gamma': ['scale', 'auto'],  # digunakan untuk 'rbf', 'poly', dan 'sigmoid'\n",
    "    'svm__degree': [2, 3, 4],  # relevan untuk kernel 'poly'\n",
    "    'svm__coef0': [0.0, 0.1, 0.5, 1.0],  # digunakan untuk 'poly' dan 'sigmoid'\n",
    "    'svm__tol': [1e-3, 1e-4, 1e-5],\n",
    "    'svm__class_weight': [None, 'balanced'],\n",
    "    'svm__decision_function_shape': ['ovo', 'ovr']\n",
    "}\n",
    "\n",
    "\n",
    "# Inisialisasi GridSearchCV\n",
    "grid_search = GridSearchCV(pipeline, param_grid, cv=2, verbose=2, n_jobs=-1)\n",
    "\n",
    "# Melatih model menggunakan GridSearchCV\n",
    "grid_search.fit(X_train, y_train)\n",
    "\n",
    "# Cetak parameter terbaik dan skor terbaik\n",
    "print(\"Best parameters found: \", grid_search.best_params_)\n",
    "print(\"Best cross-validation score: \", grid_search.best_score_)\n",
    "\n",
    "# Evaluasi model terbaik pada data uji\n",
    "best_model = grid_search.best_estimator_\n",
    "y_pred = best_model.predict(X_test)\n",
    "print(\"Test Accuracy:\", accuracy_score(y_test, y_pred))\n",
    "print(\"Classification Report:\\n\", classification_report(y_test, y_pred))\n",
    "\n",
    "# Prediksi pada data latih (untuk melihat overfitting)\n",
    "y_train_pred = best_model.predict(X_train)\n",
    "print(\"Training Accuracy:\", accuracy_score(y_train, y_train_pred))\n"
   ]
  }
 ],
 "metadata": {
  "kernelspec": {
   "display_name": "tf",
   "language": "python",
   "name": "python3"
  },
  "language_info": {
   "codemirror_mode": {
    "name": "ipython",
    "version": 3
   },
   "file_extension": ".py",
   "mimetype": "text/x-python",
   "name": "python",
   "nbconvert_exporter": "python",
   "pygments_lexer": "ipython3",
   "version": "3.9.19"
  }
 },
 "nbformat": 4,
 "nbformat_minor": 2
}
