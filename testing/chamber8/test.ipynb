{
 "cells": [
  {
   "cell_type": "code",
   "execution_count": 2,
   "metadata": {},
   "outputs": [
    {
     "name": "stdout",
     "output_type": "stream",
     "text": [
      "Matrix 3D:\n",
      "[0.17004085499325816, 0.8001606700590453, 0.1981088349236808]\n",
      "[0.08389711765079721, 0.3200557537439107, 0.20690615202908835]\n",
      "[0.21059123964410587, 0.713262086163902, 0.5920304787760545]\n",
      "\n",
      "[0.8929484338255198, 0.4239422499379881, 0.7307074152169487]\n",
      "[0.6349748370296917, 0.7378206297481347, 0.666996985729467]\n",
      "[0.014339607902129292, 0.8138548698780071, 0.5765229219545838]\n",
      "\n",
      "[0.38151537706044836, 0.8341230419592239, 0.04426932449385401]\n",
      "[0.5875424060611029, 0.9406524024215812, 0.757233777567936]\n",
      "[0.7516790213218145, 0.9981264278694489, 0.4340209476867809]\n",
      "\n",
      "[[[0.17004085499325816, 0.8001606700590453, 0.1981088349236808], [0.08389711765079721, 0.3200557537439107, 0.20690615202908835], [0.21059123964410587, 0.713262086163902, 0.5920304787760545]], [[0.8929484338255198, 0.4239422499379881, 0.7307074152169487], [0.6349748370296917, 0.7378206297481347, 0.666996985729467], [0.014339607902129292, 0.8138548698780071, 0.5765229219545838]], [[0.38151537706044836, 0.8341230419592239, 0.04426932449385401], [0.5875424060611029, 0.9406524024215812, 0.757233777567936], [0.7516790213218145, 0.9981264278694489, 0.4340209476867809]]]\n"
     ]
    }
   ],
   "source": [
    "matrix_3d = []\n",
    "\n",
    "# Ukuran matriks\n",
    "dim1 = 3\n",
    "dim2 = 3\n",
    "dim3 = 3\n",
    "\n",
    "# Mengisi matriks dengan nilai acak\n",
    "import random\n",
    "for i in range(dim1):\n",
    "    layer = []\n",
    "    for j in range(dim2):\n",
    "        row = []\n",
    "        for k in range(dim3):\n",
    "            row.append(random.random())  # Menggunakan nilai acak\n",
    "        layer.append(row)\n",
    "    matrix_3d.append(layer)\n",
    "\n",
    "# Menampilkan matriks 3 dimensi\n",
    "print(\"Matrix 3D:\")\n",
    "for layer in matrix_3d:\n",
    "    for row in layer:\n",
    "        print(row)\n",
    "    print()\n",
    "    \n",
    "print(matrix_3d)"
   ]
  },
  {
   "cell_type": "code",
   "execution_count": 1,
   "metadata": {},
   "outputs": [],
   "source": [
    "matrix_3d = [\n",
    "    [\n",
    "        [1, 2, 3], \n",
    "        [4, 5, 6], \n",
    "        [7, 8, 9]\n",
    "    ], \n",
    "    [\n",
    "        [10, 11, 12],\n",
    "        [13, 14, 15],\n",
    "        [16, 17, 18]\n",
    "    ], \n",
    "    [\n",
    "        [19, 20, 21],\n",
    "        [22, 23, 24],\n",
    "        [25, 26, 27]\n",
    "    ]\n",
    "]"
   ]
  },
  {
   "cell_type": "code",
   "execution_count": 4,
   "metadata": {},
   "outputs": [
    {
     "name": "stdout",
     "output_type": "stream",
     "text": [
      "\n",
      "Elemen pertama pada matrix terdalam:\n",
      "[1, 4, 7]\n",
      "[10, 13, 16]\n",
      "[19, 22, 25]\n"
     ]
    }
   ],
   "source": [
    "first_elements = []\n",
    "for i in range(3):\n",
    "    layer_first_elements = []\n",
    "    for j in range(3):\n",
    "        layer_first_elements.append(matrix_3d[i][j][0])\n",
    "    first_elements.append(layer_first_elements)\n",
    "\n",
    "# Menampilkan elemen pertama dari matriks terdalam\n",
    "print(\"\\nElemen pertama pada matrix terdalam:\")\n",
    "for row in first_elements:\n",
    "    print(row)"
   ]
  },
  {
   "cell_type": "code",
   "execution_count": 6,
   "metadata": {},
   "outputs": [
    {
     "name": "stdout",
     "output_type": "stream",
     "text": [
      "1\n",
      "5\n",
      "13\n",
      "17\n"
     ]
    }
   ],
   "source": [
    "matrix_3d = [\n",
    "    [\n",
    "        [1, 2, 3, 4],\n",
    "        [5, 6, 7, 8],\n",
    "    ],\n",
    "    [\n",
    "        [13, 14, 15, 16],\n",
    "        [17, 18, 19, 20],\n",
    "    ]\n",
    "]\n",
    "\n",
    "for x in matrix_3d:\n",
    "    for y in x:\n",
    "        print(y[0])"
   ]
  }
 ],
 "metadata": {
  "kernelspec": {
   "display_name": "base",
   "language": "python",
   "name": "python3"
  },
  "language_info": {
   "codemirror_mode": {
    "name": "ipython",
    "version": 3
   },
   "file_extension": ".py",
   "mimetype": "text/x-python",
   "name": "python",
   "nbconvert_exporter": "python",
   "pygments_lexer": "ipython3",
   "version": "3.11.7"
  }
 },
 "nbformat": 4,
 "nbformat_minor": 2
}
