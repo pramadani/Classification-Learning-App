{
 "cells": [
  {
   "cell_type": "code",
   "execution_count": 7,
   "metadata": {},
   "outputs": [],
   "source": [
    "import os\n",
    "import cv2\n",
    "import numpy as np\n",
    "from sklearn.model_selection import train_test_split\n",
    "from sklearn.svm import SVC\n",
    "from sklearn.pipeline import Pipeline\n",
    "from sklearn.preprocessing import StandardScaler\n",
    "from sklearn.metrics import classification_report, accuracy_score\n",
    "from sklearn.model_selection import GridSearchCV\n",
    "from tensorflow.keras.preprocessing.image import ImageDataGenerator"
   ]
  },
  {
   "cell_type": "code",
   "execution_count": 8,
   "metadata": {},
   "outputs": [],
   "source": [
    "# Fungsi untuk memuat gambar dari folder\n",
    "def load_images_from_folder(folder, img_size=(150, 150)):\n",
    "    images = []\n",
    "    labels = []\n",
    "    label_map = {}\n",
    "    label_counter = 0\n",
    "    \n",
    "    for person_name in os.listdir(folder):\n",
    "        person_folder = os.path.join(folder, person_name)\n",
    "        if os.path.isdir(person_folder):\n",
    "            if person_name not in label_map:\n",
    "                label_map[person_name] = label_counter\n",
    "                label_counter += 1\n",
    "            \n",
    "            for filename in os.listdir(person_folder):\n",
    "                img_path = os.path.join(person_folder, filename)\n",
    "                img = cv2.imread(img_path, cv2.IMREAD_GRAYSCALE)\n",
    "                if img is not None:\n",
    "                    img = cv2.resize(img, img_size)\n",
    "                    img_flatten = img.flatten()\n",
    "                    images.append(img_flatten)\n",
    "                    labels.append(label_map[person_name])\n",
    "    \n",
    "    return np.array(images), np.array(labels), label_map"
   ]
  },
  {
   "cell_type": "code",
   "execution_count": 9,
   "metadata": {},
   "outputs": [],
   "source": [
    "# Fungsi untuk augmentasi gambar\n",
    "def augment_images(images, labels, label_map, img_size=(150, 150), augment_times=100):\n",
    "    datagen = ImageDataGenerator(\n",
    "        rotation_range=20,\n",
    "        width_shift_range=0.2,\n",
    "        height_shift_range=0.2,\n",
    "        shear_range=0.2,\n",
    "        zoom_range=0.2,\n",
    "        horizontal_flip=True,\n",
    "        fill_mode='nearest'\n",
    "    )\n",
    "\n",
    "    augmented_images = []\n",
    "    augmented_labels = []\n",
    "    \n",
    "    for i, img in enumerate(images):\n",
    "        label = labels[i]\n",
    "        img = img.reshape(img_size + (1,))\n",
    "        img = img.reshape((1,) + img.shape)\n",
    "        aug_iter = datagen.flow(img, batch_size=1)\n",
    "        \n",
    "        for _ in range(augment_times):\n",
    "            aug_img = next(aug_iter)[0].reshape(img_size)\n",
    "            aug_img_flatten = aug_img.flatten()\n",
    "            augmented_images.append(aug_img_flatten)\n",
    "            augmented_labels.append(label)\n",
    "    \n",
    "    return np.array(augmented_images), np.array(augmented_labels)"
   ]
  },
  {
   "cell_type": "code",
   "execution_count": 10,
   "metadata": {},
   "outputs": [
    {
     "name": "stdout",
     "output_type": "stream",
     "text": [
      "Total images: 30\n",
      "Total labels: 30\n",
      "Label map: {'Colin_Powell': 0, 'Gerhard_Schroeder': 1, 'Tony_Blair': 2}\n"
     ]
    }
   ],
   "source": [
    "\n",
    "# Path ke folder gambar\n",
    "image_folder = '10_images'\n",
    "\n",
    "# Load gambar dan label tanpa augmentasi\n",
    "X, y, label_map = load_images_from_folder(image_folder)\n",
    "\n",
    "# Cetak informasi dataset\n",
    "print(f'Total images: {len(X)}')\n",
    "print(f'Total labels: {len(y)}')\n",
    "print(f'Label map: {label_map}')\n",
    "\n",
    "# Membagi dataset menjadi data latih dan data uji\n",
    "X_train, X_test, y_train, y_test = train_test_split(X, y, test_size=0.2, random_state=42, stratify=y)\n",
    "\n",
    "# Augmentasi data latih\n",
    "X_train_aug, y_train_aug = augment_images(X_train, y_train, label_map)\n",
    "\n",
    "# Gabungkan data latih asli dengan data augmentasi\n",
    "X_train_combined = np.concatenate((X_train, X_train_aug))\n",
    "y_train_combined = np.concatenate((y_train, y_train_aug))"
   ]
  },
  {
   "cell_type": "code",
   "execution_count": 11,
   "metadata": {},
   "outputs": [
    {
     "data": {
      "text/plain": [
       "array([2, 1, 2, 0, 1, 0])"
      ]
     },
     "execution_count": 11,
     "metadata": {},
     "output_type": "execute_result"
    }
   ],
   "source": [
    "y_test"
   ]
  },
  {
   "cell_type": "code",
   "execution_count": 12,
   "metadata": {},
   "outputs": [
    {
     "name": "stdout",
     "output_type": "stream",
     "text": [
      "Fitting 2 folds for each of 4 candidates, totalling 8 fits\n",
      "Best parameters found:  {'svm__C': 10, 'svm__gamma': 'scale', 'svm__kernel': 'rbf'}\n",
      "Best cross-validation score:  0.5903465346534653\n",
      "Test Accuracy: 0.6666666666666666\n",
      "Classification Report:\n",
      "               precision    recall  f1-score   support\n",
      "\n",
      "           0       0.67      1.00      0.80         2\n",
      "           1       1.00      0.50      0.67         2\n",
      "           2       0.50      0.50      0.50         2\n",
      "\n",
      "    accuracy                           0.67         6\n",
      "   macro avg       0.72      0.67      0.66         6\n",
      "weighted avg       0.72      0.67      0.66         6\n",
      "\n",
      "Training Accuracy: 1.0\n"
     ]
    }
   ],
   "source": [
    "# Pipeline dengan standard scaler dan SVM\n",
    "pipeline = Pipeline([\n",
    "    ('scaler', StandardScaler()),\n",
    "    ('svm', SVC())\n",
    "])\n",
    "\n",
    "# Definisikan parameter grid untuk GridSearchCV\n",
    "param_grid = {\n",
    "    'svm__kernel': ['rbf'],\n",
    "    'svm__C': [0.01, 0.1, 1, 10],\n",
    "    'svm__gamma': ['scale']  # hanya digunakan jika kernel adalah 'rbf'\n",
    "}\n",
    "\n",
    "# Inisialisasi GridSearchCV\n",
    "grid_search = GridSearchCV(pipeline, param_grid, cv=2, verbose=2, n_jobs=-1)\n",
    "\n",
    "# Melatih model menggunakan GridSearchCV\n",
    "grid_search.fit(X_train_combined, y_train_combined)\n",
    "\n",
    "# Cetak parameter terbaik dan skor terbaik\n",
    "print(\"Best parameters found: \", grid_search.best_params_)\n",
    "print(\"Best cross-validation score: \", grid_search.best_score_)\n",
    "\n",
    "# Evaluasi model terbaik pada data uji\n",
    "best_model = grid_search.best_estimator_\n",
    "y_pred = best_model.predict(X_test)\n",
    "print(\"Test Accuracy:\", accuracy_score(y_test, y_pred))\n",
    "print(\"Classification Report:\\n\", classification_report(y_test, y_pred))\n",
    "\n",
    "# Prediksi pada data latih (untuk melihat overfitting)\n",
    "y_train_pred = best_model.predict(X_train_combined)\n",
    "print(\"Training Accuracy:\", accuracy_score(y_train_combined, y_train_pred))"
   ]
  }
 ],
 "metadata": {
  "kernelspec": {
   "display_name": "tf",
   "language": "python",
   "name": "python3"
  },
  "language_info": {
   "codemirror_mode": {
    "name": "ipython",
    "version": 3
   },
   "file_extension": ".py",
   "mimetype": "text/x-python",
   "name": "python",
   "nbconvert_exporter": "python",
   "pygments_lexer": "ipython3",
   "version": "3.9.19"
  }
 },
 "nbformat": 4,
 "nbformat_minor": 2
}
